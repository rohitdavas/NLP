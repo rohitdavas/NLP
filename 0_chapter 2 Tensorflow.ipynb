{
 "cells": [
  {
   "cell_type": "code",
   "execution_count": 5,
   "metadata": {},
   "outputs": [
    {
     "name": "stdout",
     "output_type": "stream",
     "text": [
      "1.14.0\n"
     ]
    }
   ],
   "source": [
    "import warnings\n",
    "\n",
    "\n",
    "warnings.filterwarnings('ignore')\n",
    "\n",
    "import tensorflow as tf\n",
    "\n",
    "print(tf.__version__)\n",
    "import numpy as np"
   ]
  },
  {
   "cell_type": "code",
   "execution_count": 23,
   "metadata": {},
   "outputs": [],
   "source": [
    "graph = tf.Graph() # or tf.get_default_graph()\n",
    "session = tf.InteractiveSession(graph = graph)"
   ]
  },
  {
   "cell_type": "markdown",
   "metadata": {
    "heading_collapsed": true
   },
   "source": [
    "## Target to implement sigmoid function\n",
    "\n",
    "```python\n",
    "z = W*X + b\n",
    "y = sigmoid(z)\n",
    "```\n"
   ]
  },
  {
   "cell_type": "code",
   "execution_count": 3,
   "metadata": {
    "hidden": true
   },
   "outputs": [],
   "source": [
    "x = tf.placeholder(shape = [1,10], dtype = tf.float32, name = 'x')\n",
    "W = tf.Variable(tf.random_uniform(shape = [10,5], minval= -0.1, maxval = 0.1, dtype= tf.float32), name = 'w')\n",
    "\n",
    "b = tf.Variable(tf.zeros(shape = [1,5], dtype = tf.float32), name = 'b')\n",
    "\n",
    "z = tf.matmul(x,W) + b\n",
    "\n",
    "h = tf.nn.sigmoid(z)\n"
   ]
  },
  {
   "cell_type": "code",
   "execution_count": 4,
   "metadata": {
    "hidden": true
   },
   "outputs": [],
   "source": [
    "tf.global_variables_initializer().run()"
   ]
  },
  {
   "cell_type": "code",
   "execution_count": 11,
   "metadata": {
    "hidden": true
   },
   "outputs": [
    {
     "name": "stdout",
     "output_type": "stream",
     "text": [
      "[array([[0.53276086, 0.4873422 , 0.5293786 , 0.4985795 , 0.48104948]],\n",
      "      dtype=float32)]\n",
      "<class 'list'>\n"
     ]
    }
   ],
   "source": [
    "h_eval = session.run([h,], feed_dict= {x:np.random.rand(1,10)})\n",
    "print(h_eval)\n",
    "print(type(h_eval))"
   ]
  },
  {
   "cell_type": "code",
   "execution_count": 12,
   "metadata": {
    "hidden": true
   },
   "outputs": [],
   "source": [
    "session.close()"
   ]
  },
  {
   "cell_type": "markdown",
   "metadata": {
    "heading_collapsed": true
   },
   "source": [
    "## Data Pipeline CSV\n",
    "\n",
    "### steps:\n",
    "- list of filenames\n",
    "- filename queue producing filenames for reading the inputs\n",
    "- a record reader for reading the inputs from queue\n",
    "- a decoder to decode the read records (JPEG decoder, csv decoder)\n",
    "- preprocessing(optional)\n",
    "- output x: a decoded queue"
   ]
  },
  {
   "cell_type": "code",
   "execution_count": 48,
   "metadata": {
    "hidden": true
   },
   "outputs": [],
   "source": [
    "graph = tf.Graph()\n",
    "session = tf.InteractiveSession(graph = graph)"
   ]
  },
  {
   "cell_type": "code",
   "execution_count": 49,
   "metadata": {
    "hidden": true
   },
   "outputs": [
    {
     "name": "stdout",
     "output_type": "stream",
     "text": [
      "['./data/1.txt', './data/2.txt', './data/3.txt', './data/4.txt']\n"
     ]
    }
   ],
   "source": [
    "from glob import glob\n",
    "\n",
    "filenames = glob('./data/*.txt')\n",
    "print(filenames)\n",
    "\n",
    "filename_queue = tf.train.string_input_producer(filenames, capacity = 3, shuffle = True, name = 'string_input_pro')\n"
   ]
  },
  {
   "cell_type": "code",
   "execution_count": 50,
   "metadata": {
    "hidden": true
   },
   "outputs": [],
   "source": [
    "reader = tf.TextLineReader()\n",
    "\n",
    "key, value = reader.read(filename_queue, name = 'text_read_op')\n",
    "\n",
    "record_defaults = [[-1.0], [-1.0], [-1.0],[-1.0],[-1.0],[-1.0],[-1.0],[-1.0],[-1.0],[-1.0],]\n",
    "\n",
    "col1, col2, col3, col4, col5, col6, col7, col8, col9, col10 = tf.decode_csv(value, record_defaults = record_defaults)"
   ]
  },
  {
   "cell_type": "code",
   "execution_count": 51,
   "metadata": {
    "hidden": true
   },
   "outputs": [],
   "source": [
    "features = tf.stack([col1, col2, col3, col4, col5, col6, col7, col8, col9, col10])\n",
    "\n",
    "x= tf.train.shuffle_batch([features], batch_size = 3, capacity = 5, name = 'data_batch', min_after_dequeue = 1, num_threads = 1)\n"
   ]
  },
  {
   "cell_type": "code",
   "execution_count": 52,
   "metadata": {
    "hidden": true
   },
   "outputs": [],
   "source": [
    "coord = tf.train.Coordinator()\n",
    "threads = tf.train.start_queue_runners(coord = coord, sess = session)\n",
    "\n"
   ]
  },
  {
   "cell_type": "markdown",
   "metadata": {
    "hidden": true
   },
   "source": [
    "### Write the model"
   ]
  },
  {
   "cell_type": "code",
   "execution_count": 53,
   "metadata": {
    "hidden": true
   },
   "outputs": [],
   "source": [
    "W = tf.Variable(tf.random_uniform(shape = [10,5], minval= -0.1, maxval = 0.1, dtype= tf.float32), name = 'w')\n",
    "\n",
    "b = tf.Variable(shape = [1,5], dtype = tf.float32, initial_value =tf.zeros(shape = [1,5]),name = 'b')\n",
    "\n",
    "z = tf.matmul(x,W) + b\n",
    "\n",
    "h = tf.nn.sigmoid(z)\n"
   ]
  },
  {
   "cell_type": "code",
   "execution_count": 54,
   "metadata": {
    "hidden": true
   },
   "outputs": [],
   "source": [
    "tf.global_variables_initializer().run()"
   ]
  },
  {
   "cell_type": "code",
   "execution_count": 58,
   "metadata": {
    "hidden": true
   },
   "outputs": [
    {
     "name": "stdout",
     "output_type": "stream",
     "text": [
      "============Step 0=====\n",
      "evaluated data: \n",
      " [[12. 22. 32. 42. 16.  6. 17. 18. 19. 10.]\n",
      " [ 1.  2.  3.  4.  5.  6.  7.  8.  9. 10.]\n",
      " [ 1.  2.  3.  4. 16.  6. 17. 18. 19. 10.]]\n",
      "\n",
      "h \n",
      " [[0.25494397 0.9553317  0.9835261  0.8793436  0.04499936]\n",
      " [0.1982154  0.4991967  0.58653617 0.37489372 0.3031178 ]\n",
      " [0.03795338 0.5276239  0.6971744  0.22401138 0.6471871 ]]\n",
      "\n",
      "\n",
      "============Step 1=====\n",
      "evaluated data: \n",
      " [[ 1.  2.  3.  4.  5.  6.  7.  8.  9. 10.]\n",
      " [11. 12. 13.  4. 16.  6. 17. 18. 19. 10.]\n",
      " [11. 12. 13.  4. 16.  6. 17. 18. 19. 10.]]\n",
      "\n",
      "h \n",
      " [[0.1982154  0.4991967  0.58653617 0.37489372 0.3031178 ]\n",
      " [0.02766812 0.77443033 0.8612188  0.57398784 0.60139126]\n",
      " [0.02766812 0.77443033 0.8612188  0.5739878  0.60139126]]\n",
      "\n",
      "\n",
      "============Step 2=====\n",
      "evaluated data: \n",
      " [[12. 22. 32. 42. 16.  6. 17. 18. 19. 10.]\n",
      " [ 1.  2.  3.  4. 16.  6. 17. 18. 19. 10.]\n",
      " [11. 12. 13.  4. 16.  6. 17. 18. 19. 10.]]\n",
      "\n",
      "h \n",
      " [[0.25494397 0.9553317  0.9835261  0.8793436  0.04499936]\n",
      " [0.03795338 0.5276239  0.69717443 0.22401139 0.6471871 ]\n",
      " [0.02766812 0.77443033 0.8612188  0.5739878  0.60139126]]\n",
      "\n",
      "\n",
      "============Step 3=====\n",
      "evaluated data: \n",
      " [[11. 12. 13.  4. 16.  6. 17. 18. 19. 10.]\n",
      " [12. 22. 32. 42. 16.  6. 17. 18. 19. 10.]\n",
      " [ 1.  2.  3.  4.  5.  6.  7.  8.  9. 10.]]\n",
      "\n",
      "h \n",
      " [[0.02766812 0.77443033 0.8612188  0.57398784 0.60139126]\n",
      " [0.25494397 0.9553317  0.9835261  0.8793436  0.04499936]\n",
      " [0.1982154  0.4991967  0.5865362  0.3748937  0.30311778]]\n",
      "\n",
      "\n",
      "============Step 4=====\n",
      "evaluated data: \n",
      " [[ 1.  2.  3.  4. 16.  6. 17. 18. 19. 10.]\n",
      " [ 1.  2.  3.  4.  5.  6.  7.  8.  9. 10.]\n",
      " [12. 22. 32. 42. 16.  6. 17. 18. 19. 10.]]\n",
      "\n",
      "h \n",
      " [[0.03795338 0.5276239  0.69717443 0.22401139 0.6471871 ]\n",
      " [0.1982154  0.4991967  0.58653617 0.37489372 0.3031178 ]\n",
      " [0.25494397 0.9553317  0.98352605 0.8793437  0.04499939]]\n",
      "\n",
      "\n"
     ]
    }
   ],
   "source": [
    "for step in range(5):\n",
    "    x_eval,h_eval= session.run([x,h])\n",
    "    print(\"============Step %d=====\"%step)\n",
    "    print(\"evaluated data: \\n\",x_eval)\n",
    "    print()\n",
    "    \n",
    "    print(\"h \\n\",h_eval)\n",
    "    print()\n",
    "    print()\n",
    "    #print(\"h: \",h_eval)\n",
    "    "
   ]
  },
  {
   "cell_type": "code",
   "execution_count": 62,
   "metadata": {
    "hidden": true
   },
   "outputs": [],
   "source": [
    "\n",
    "b = tf.Variable(shape = [1,5], dtype = tf.float32, initial_value = tf.zeros(shape = [1,5]),name = 'b')"
   ]
  },
  {
   "cell_type": "code",
   "execution_count": 63,
   "metadata": {
    "hidden": true
   },
   "outputs": [
    {
     "name": "stdout",
     "output_type": "stream",
     "text": [
      "<tf.Variable 'b_4:0' shape=(1, 5) dtype=float32_ref>\n"
     ]
    }
   ],
   "source": [
    "print(b)"
   ]
  },
  {
   "cell_type": "code",
   "execution_count": null,
   "metadata": {
    "hidden": true
   },
   "outputs": [],
   "source": []
  }
 ],
 "metadata": {
  "hide_input": false,
  "kernelspec": {
   "display_name": "Python 3",
   "language": "python",
   "name": "python3"
  },
  "language_info": {
   "codemirror_mode": {
    "name": "ipython",
    "version": 3
   },
   "file_extension": ".py",
   "mimetype": "text/x-python",
   "name": "python",
   "nbconvert_exporter": "python",
   "pygments_lexer": "ipython3",
   "version": "3.7.5"
  },
  "toc": {
   "base_numbering": 1,
   "nav_menu": {},
   "number_sections": true,
   "sideBar": true,
   "skip_h1_title": false,
   "title_cell": "Table of Contents",
   "title_sidebar": "Contents",
   "toc_cell": false,
   "toc_position": {},
   "toc_section_display": true,
   "toc_window_display": true
  }
 },
 "nbformat": 4,
 "nbformat_minor": 2
}
